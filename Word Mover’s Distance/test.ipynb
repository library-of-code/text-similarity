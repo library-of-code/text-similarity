{
 "cells": [
  {
   "cell_type": "code",
   "execution_count": 1,
   "metadata": {},
   "outputs": [
    {
     "name": "stderr",
     "output_type": "stream",
     "text": [
      "[nltk_data] Downloading package stopwords to\n",
      "[nltk_data]     C:\\Users\\asus\\AppData\\Roaming\\nltk_data...\n",
      "[nltk_data]   Package stopwords is already up-to-date!\n"
     ]
    },
    {
     "name": "stdout",
     "output_type": "stream",
     "text": [
      "Cell took 85.48 seconds to run.\n"
     ]
    }
   ],
   "source": [
    "from time import time\n",
    "start_nb = time()\n",
    "\n",
    "# Initialize logging.\n",
    "import logging\n",
    "logging.basicConfig(format='%(asctime)s : %(levelname)s : %(message)s')\n",
    "\n",
    "sentence_obama = 'Juve midfielder on Messi-Ronaldo comparison: “I choose Cristiano”'\n",
    "sentence_president = '‘I’d go with Cristiano’ – Arthur Melo switches allegiance after previously saying Messi was the GOAT'\n",
    "sentence_obama = sentence_obama.lower().split()\n",
    "sentence_president = sentence_president.lower().split()\n",
    "\n",
    "from nltk.corpus import stopwords\n",
    "from nltk import download\n",
    "download('stopwords')  # Download stopwords list.\n",
    "\n",
    "# Remove stopwords.\n",
    "stop_words = stopwords.words('english')\n",
    "\n",
    "start = time()\n",
    "import os\n",
    "\n",
    "from gensim.models import KeyedVectors\n",
    "if not os.path.exists('C:/Users/asus/WMD/GoogleNews-vectors-negative300.bin.gz'):\n",
    "    raise ValueError(\"SKIP: You need to download the google news model\")\n",
    "    \n",
    "model = KeyedVectors.load_word2vec_format('C:/Users/asus/WMD/GoogleNews-vectors-negative300.bin.gz', binary=True)\n",
    "\n",
    "print('Cell took %.2f seconds to run.' % (time() - start))"
   ]
  },
  {
   "cell_type": "code",
   "execution_count": 127,
   "metadata": {},
   "outputs": [
    {
     "name": "stdout",
     "output_type": "stream",
     "text": [
      "Chunk no.:  1\n",
      "Chunk no.:  2\n",
      "Chunk no.:  3\n",
      "Chunk no.:  4\n",
      "Chunk no.:  5\n",
      "Chunk no.:  6\n",
      "Chunk no.:  7\n",
      "Chunk no.:  8\n",
      "Chunk no.:  9\n",
      "Chunk no.:  10\n",
      "Chunk no.:  11\n"
     ]
    }
   ],
   "source": [
    "import pandas as pd\n",
    "import numpy as np\n",
    "datafile = 'C:/Users/asus/archive/pre_process.csv'\n",
    "chunksize = 10000\n",
    "chunk_no = 0\n",
    "Dist = []\n",
    "for chunk in pd.read_csv(datafile, chunksize=chunksize):\n",
    "    chunk_S = chunk.shape[0]\n",
    "    chunk_idx = chunk_S * chunk_no\n",
    "    chunk_no += 1\n",
    "    print(\"Chunk no.: \", chunk_no)\n",
    "    for i in range(chunk_idx, chunk_idx+chunk_S): \n",
    "        # get sentences \n",
    "        s1 = chunk['TITLE1'][i]\n",
    "        s2 = chunk['TITLE2'][i]\n",
    "        \n",
    "        # get story_idx\n",
    "        st_1 = chunk['STORY1'][i]\n",
    "        st_2 = chunk['STORY2'][i]\n",
    "        \n",
    "        if st_1 != st_2 : \n",
    "            continue\n",
    "        \n",
    "        dist = model.wmdistance(s1, s2)\n",
    "        Dist.append(dist)"
   ]
  },
  {
   "cell_type": "code",
   "execution_count": 129,
   "metadata": {},
   "outputs": [
    {
     "name": "stdout",
     "output_type": "stream",
     "text": [
      "108059\n",
      "1.06137585026287\n",
      "0.09806786259776155\n"
     ]
    }
   ],
   "source": [
    "import numpy as np\n",
    "print(len(Dist))\n",
    "print(np.mean(Dist))\n",
    "print(np.var(Dist))"
   ]
  },
  {
   "cell_type": "code",
   "execution_count": null,
   "metadata": {},
   "outputs": [],
   "source": []
  }
 ],
 "metadata": {
  "kernelspec": {
   "display_name": "Python 3",
   "language": "python",
   "name": "python3"
  },
  "language_info": {
   "codemirror_mode": {
    "name": "ipython",
    "version": 3
   },
   "file_extension": ".py",
   "mimetype": "text/x-python",
   "name": "python",
   "nbconvert_exporter": "python",
   "pygments_lexer": "ipython3",
   "version": "3.8.5"
  }
 },
 "nbformat": 4,
 "nbformat_minor": 4
}
